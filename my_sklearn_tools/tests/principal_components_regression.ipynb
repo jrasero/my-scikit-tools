{
 "cells": [
  {
   "cell_type": "markdown",
   "metadata": {},
   "source": [
    "Noteboo to show how to use a Principal Component regressor"
   ]
  },
  {
   "cell_type": "code",
   "execution_count": 1,
   "metadata": {},
   "outputs": [],
   "source": [
    "from sklearn.datasets import load_diabetes\n",
    "from sklearn.model_selection import train_test_split\n",
    "from sklearn.metrics import r2_score\n",
    "import matplotlib.pylab as plt\n",
    "\n",
    "X, y = load_diabetes(return_X_y=True)\n",
    "\n",
    "X_train, X_test, y_train, y_test = train_test_split(X, y, test_size=2/3, random_state=0)"
   ]
  },
  {
   "cell_type": "code",
   "execution_count": 2,
   "metadata": {},
   "outputs": [],
   "source": [
    "from my_sklearn_tools.pca_regressors import PCARegression, PCARegressionCV"
   ]
  },
  {
   "cell_type": "code",
   "execution_count": 3,
   "metadata": {},
   "outputs": [
    {
     "name": "stdout",
     "output_type": "stream",
     "text": [
      "Help on class PCARegression in module my_sklearn_tools.pca_regressors:\n",
      "\n",
      "class PCARegression(builtins.object)\n",
      " |  PCARegression(scale=False, cache_dir=False, verbose=0)\n",
      " |  \n",
      " |  Methods defined here:\n",
      " |  \n",
      " |  __init__(self, scale=False, cache_dir=False, verbose=0)\n",
      " |      Initialize self.  See help(type(self)) for accurate signature.\n",
      " |  \n",
      " |  build(self, reg_type)\n",
      " |  \n",
      " |  ----------------------------------------------------------------------\n",
      " |  Data descriptors defined here:\n",
      " |  \n",
      " |  __dict__\n",
      " |      dictionary for instance variables (if defined)\n",
      " |  \n",
      " |  __weakref__\n",
      " |      list of weak references to the object (if defined)\n",
      "\n",
      "Help on class PCARegressionCV in module my_sklearn_tools.pca_regressors:\n",
      "\n",
      "class PCARegressionCV(builtins.object)\n",
      " |  PCARegressionCV(scale=False, cv=None, n_jobs=None, cache_dir=True, verbose=0)\n",
      " |  \n",
      " |  Methods defined here:\n",
      " |  \n",
      " |  __init__(self, scale=False, cv=None, n_jobs=None, cache_dir=True, verbose=0)\n",
      " |      Initialize self.  See help(type(self)) for accurate signature.\n",
      " |  \n",
      " |  build(self, reg_type)\n",
      " |  \n",
      " |  ----------------------------------------------------------------------\n",
      " |  Data descriptors defined here:\n",
      " |  \n",
      " |  __dict__\n",
      " |      dictionary for instance variables (if defined)\n",
      " |  \n",
      " |  __weakref__\n",
      " |      list of weak references to the object (if defined)\n",
      "\n"
     ]
    }
   ],
   "source": [
    "help(PCARegression)\n",
    "help(PCARegressionCV)"
   ]
  },
  {
   "cell_type": "code",
   "execution_count": 4,
   "metadata": {},
   "outputs": [
    {
     "data": {
      "text/plain": [
       "Pipeline(steps=[('variancethreshold', VarianceThreshold()), ('pca', PCA()),\n",
       "                ('lasso', Lasso(max_iter=1000000.0))])"
      ]
     },
     "execution_count": 4,
     "metadata": {},
     "output_type": "execute_result"
    }
   ],
   "source": [
    "pca_reg = PCARegression().build(reg_type='lasso')\n",
    "pca_reg"
   ]
  },
  {
   "cell_type": "code",
   "execution_count": 5,
   "metadata": {},
   "outputs": [
    {
     "data": {
      "text/plain": [
       "GridSearchCV(cv=5,\n",
       "             estimator=Pipeline(steps=[('variancethreshold',\n",
       "                                        VarianceThreshold()),\n",
       "                                       ('pca', PCA()),\n",
       "                                       ('lasso', Lasso(max_iter=1000000.0))]),\n",
       "             param_grid={'lasso__alpha': array([1.00000000e-04, 1.14975700e-04, 1.32194115e-04, 1.51991108e-04,\n",
       "       1.74752840e-04, 2.00923300e-04, 2.31012970e-04, 2.65608778e-04,\n",
       "       3.05385551e-04, 3.51119173e-04, 4.03701726e-04, 4.64158883e-0...\n",
       "       4.03701726e+00, 4.64158883e+00, 5.33669923e+00, 6.13590727e+00,\n",
       "       7.05480231e+00, 8.11130831e+00, 9.32603347e+00, 1.07226722e+01,\n",
       "       1.23284674e+01, 1.41747416e+01, 1.62975083e+01, 1.87381742e+01,\n",
       "       2.15443469e+01, 2.47707636e+01, 2.84803587e+01, 3.27454916e+01,\n",
       "       3.76493581e+01, 4.32876128e+01, 4.97702356e+01, 5.72236766e+01,\n",
       "       6.57933225e+01, 7.56463328e+01, 8.69749003e+01, 1.00000000e+02])},\n",
       "             scoring='neg_mean_squared_error')"
      ]
     },
     "execution_count": 5,
     "metadata": {},
     "output_type": "execute_result"
    }
   ],
   "source": [
    "pca_reg_cv = PCARegressionCV(cache_dir=False, cv=5).build(reg_type='lasso')\n",
    "pca_reg_cv"
   ]
  },
  {
   "cell_type": "code",
   "execution_count": 6,
   "metadata": {},
   "outputs": [
    {
     "data": {
      "text/plain": [
       "0.3103231634116773"
      ]
     },
     "execution_count": 6,
     "metadata": {},
     "output_type": "execute_result"
    }
   ],
   "source": [
    "pca_reg.fit(X_train, y_train)\n",
    "r2_score(y_test, pca_reg.predict(X_test))"
   ]
  },
  {
   "cell_type": "code",
   "execution_count": 7,
   "metadata": {},
   "outputs": [
    {
     "data": {
      "text/plain": [
       "0.45128528554471004"
      ]
     },
     "execution_count": 7,
     "metadata": {},
     "output_type": "execute_result"
    }
   ],
   "source": [
    "pca_reg_cv.fit(X_train, y_train)\n",
    "r2_score(y_test, pca_reg_cv.predict(X_test))"
   ]
  },
  {
   "cell_type": "code",
   "execution_count": 8,
   "metadata": {},
   "outputs": [
    {
     "data": {
      "image/png": "[encoded data removed]",
      "text/plain": [
       "<Figure size 432x288 with 1 Axes>"
      ]
     },
     "metadata": {
      "needs_background": "light"
     },
     "output_type": "display_data"
    }
   ],
   "source": [
    "plt.plot(pca_reg_cv.param_grid['lasso__alpha'], \n",
    "         -pca_reg_cv.cv_results_['mean_test_score'])\n",
    "plt.xscale('log')\n",
    "plt.ylim([3000, 3500])\n",
    "plt.xlim([0.001, 1])\n",
    "plt.xlabel(r'$\\alpha$', size=20)\n",
    "plt.ylabel(\"MSE\", size=20)\n",
    "pass"
   ]
  }
 ],
 "metadata": {
  "kernelspec": {
   "display_name": "Python 3",
   "language": "python",
   "name": "python3"
  },
  "language_info": {
   "codemirror_mode": {
    "name": "ipython",
    "version": 3
   },
   "file_extension": ".py",
   "mimetype": "text/x-python",
   "name": "python",
   "nbconvert_exporter": "python",
   "pygments_lexer": "ipython3",
   "version": "3.8.3"
  }
 },
 "nbformat": 4,
 "nbformat_minor": 4
}
